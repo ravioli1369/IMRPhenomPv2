{
 "cells": [
  {
   "cell_type": "code",
   "execution_count": 1,
   "metadata": {},
   "outputs": [],
   "source": [
    "import torch\n",
    "import numpy as np\n",
    "import matplotlib.pyplot as plt\n",
    "from torch import Tensor\n",
    "from phenom_p import IMRPhenomPv2\n",
    "params={\n",
    "    'text.usetex':True,\n",
    "    'font.family':'serif',\n",
    "    'xtick.minor.visible':True,\n",
    "    'ytick.minor.visible':True,\n",
    "    'xtick.top':True,\n",
    "    'ytick.left':True,\n",
    "    'ytick.right':True,\n",
    "    'xtick.direction':'out',\n",
    "    'ytick.direction':'out',\n",
    "    'xtick.minor.size':2.5,\n",
    "    'xtick.major.size':5,\n",
    "    'ytick.minor.size':2.5,\n",
    "    'ytick.major.size':5,\n",
    "    'axes.axisbelow':True,\n",
    "    \"xtick.labelsize\": 16,\n",
    "    \"ytick.labelsize\": 16,\n",
    "    \"axes.labelsize\": 18,\n",
    "    \"legend.fontsize\": 14,\n",
    "    \"legend.title_fontsize\": 16,\n",
    "    \"figure.titlesize\": 22,\n",
    "    \"axes.labelpad\": 10.0,\n",
    "}\n",
    "plt.rcParams.update(params)"
   ]
  },
  {
   "cell_type": "code",
   "execution_count": 2,
   "metadata": {},
   "outputs": [],
   "source": [
    "phenom_p = IMRPhenomPv2().to('cuda')\n",
    "chi1z = 0.5\n",
    "chi2z = -0.1\n",
    "mass_ratio = 1.5\n",
    "chirp_mass = 30\n",
    "distance = 100\n",
    "tc = 0\n",
    "phic = 0\n",
    "inclination = 0\n",
    "torch_freqs = torch.arange(\n",
    "        10, 300, 1/128.\n",
    "    ).to('cuda')\n",
    "_params = torch.tensor(\n",
    "        [\n",
    "            chirp_mass,\n",
    "            mass_ratio,\n",
    "            0,\n",
    "            0,\n",
    "            chi1z,\n",
    "            0,\n",
    "            0,\n",
    "            chi2z,\n",
    "            distance,\n",
    "            tc,\n",
    "            phic,\n",
    "            inclination,\n",
    "        ]\n",
    "    ).repeat(10, 1).to('cuda')\n",
    "f_ref = 20.\n",
    "batched_chirp_mass = _params[:, 0]\n",
    "batched_mass_ratio = _params[:, 1]\n",
    "batched_chi1x = _params[:, 2]\n",
    "batched_chi1y = _params[:, 3]\n",
    "batched_chi1z = _params[:, 4]\n",
    "batched_chi2x = _params[:, 5]\n",
    "batched_chi2y = _params[:, 6]\n",
    "batched_chi2z = _params[:, 7]\n",
    "batched_distance = _params[:, 8]\n",
    "batched_tc = _params[:, 9]\n",
    "batched_phic = _params[:, 10]\n",
    "batched_inclination = _params[:, 11]"
   ]
  },
  {
   "cell_type": "code",
   "execution_count": 6,
   "metadata": {},
   "outputs": [
    {
     "data": {
      "text/plain": [
       "(device(type='cuda', index=0), device(type='cuda', index=0))"
      ]
     },
     "execution_count": 6,
     "metadata": {},
     "output_type": "execute_result"
    }
   ],
   "source": [
    "hp_torch, hc_torch = phenom_p.forward(\n",
    "        torch_freqs,\n",
    "        batched_chirp_mass,\n",
    "        batched_mass_ratio,\n",
    "        batched_chi1x,\n",
    "        batched_chi1y,\n",
    "        batched_chi1z,\n",
    "        batched_chi2x,\n",
    "        batched_chi2y,\n",
    "        batched_chi2z,\n",
    "        batched_distance,\n",
    "        batched_tc,\n",
    "        batched_phic,\n",
    "        batched_inclination,\n",
    "        f_ref,\n",
    "    )\n",
    "hp_torch.device, hc_torch.device"
   ]
  },
  {
   "cell_type": "code",
   "execution_count": null,
   "metadata": {},
   "outputs": [],
   "source": []
  }
 ],
 "metadata": {
  "kernelspec": {
   "display_name": "torch",
   "language": "python",
   "name": "python3"
  },
  "language_info": {
   "codemirror_mode": {
    "name": "ipython",
    "version": 3
   },
   "file_extension": ".py",
   "mimetype": "text/x-python",
   "name": "python",
   "nbconvert_exporter": "python",
   "pygments_lexer": "ipython3",
   "version": "3.12.3"
  }
 },
 "nbformat": 4,
 "nbformat_minor": 2
}
