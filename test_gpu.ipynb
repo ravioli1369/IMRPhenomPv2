{
 "cells": [
  {
   "cell_type": "code",
   "execution_count": 1,
   "metadata": {},
   "outputs": [],
   "source": [
    "import torch\n",
    "import numpy as np\n",
    "import matplotlib.pyplot as plt\n",
    "from torch import Tensor\n",
    "from phenom_p import IMRPhenomPv2\n",
    "from phenom_d import IMRPhenomD\n",
    "params={\n",
    "    'text.usetex':True,\n",
    "    'font.family':'serif',\n",
    "    'xtick.minor.visible':True,\n",
    "    'ytick.minor.visible':True,\n",
    "    'xtick.top':True,\n",
    "    'ytick.left':True,\n",
    "    'ytick.right':True,\n",
    "    'xtick.direction':'out',\n",
    "    'ytick.direction':'out',\n",
    "    'xtick.minor.size':2.5,\n",
    "    'xtick.major.size':5,\n",
    "    'ytick.minor.size':2.5,\n",
    "    'ytick.major.size':5,\n",
    "    'axes.axisbelow':True,\n",
    "    \"xtick.labelsize\": 16,\n",
    "    \"ytick.labelsize\": 16,\n",
    "    \"axes.labelsize\": 18,\n",
    "    \"legend.fontsize\": 14,\n",
    "    \"legend.title_fontsize\": 16,\n",
    "    \"figure.titlesize\": 22,\n",
    "    \"axes.labelpad\": 10.0,\n",
    "}\n",
    "plt.rcParams.update(params)"
   ]
  },
  {
   "cell_type": "code",
   "execution_count": 7,
   "metadata": {},
   "outputs": [],
   "source": [
    "phenom_p = IMRPhenomPv2().cuda()\n",
    "phenom_d = IMRPhenomD().cuda()\n",
    "chi1z = 0.5\n",
    "chi2z = -0.1\n",
    "mass_ratio = 1.5\n",
    "chirp_mass = 30\n",
    "distance = 100\n",
    "tc = 0\n",
    "phic = 0\n",
    "inclination = 0\n",
    "torch_freqs = torch.arange(\n",
    "        10, 300, 1/128.\n",
    "    ).cuda()\n",
    "_params = torch.tensor(\n",
    "        [\n",
    "            chirp_mass,\n",
    "            mass_ratio,\n",
    "            0,\n",
    "            0,\n",
    "            chi1z,\n",
    "            0,\n",
    "            0,\n",
    "            chi2z,\n",
    "            distance,\n",
    "            tc,\n",
    "            phic,\n",
    "            inclination,\n",
    "        ]\n",
    "    ).cuda()\n",
    "f_ref = 20.\n",
    "\n",
    "def batch_params(params, batchsize = 10):\n",
    "    params = params.repeat(batchsize, 1)\n",
    "    batched_chirp_mass = params[:, 0]\n",
    "    batched_mass_ratio = params[:, 1]\n",
    "    batched_chi1x = params[:, 2]\n",
    "    batched_chi1y = params[:, 3]\n",
    "    batched_chi1z = params[:, 4]\n",
    "    batched_chi2x = params[:, 5]\n",
    "    batched_chi2y = params[:, 6]\n",
    "    batched_chi2z = params[:, 7]\n",
    "    batched_distance = params[:, 8]\n",
    "    batched_tc = params[:, 9]\n",
    "    batched_phic = params[:, 10]\n",
    "    batched_inclination = params[:, 11]\n",
    "    return batched_chirp_mass, batched_mass_ratio, batched_chi1x, batched_chi1y, batched_chi1z, batched_chi2x, batched_chi2y, batched_chi2z, batched_distance, batched_tc, batched_phic, batched_inclination"
   ]
  },
  {
   "cell_type": "code",
   "execution_count": 10,
   "metadata": {},
   "outputs": [
    {
     "name": "stdout",
     "output_type": "stream",
     "text": [
      "PhenomP: batch size  = 100\n"
     ]
    },
    {
     "name": "stdout",
     "output_type": "stream",
     "text": [
      "83.8 ms ± 1.03 ms per loop (mean ± std. dev. of 10 runs, 10 loops each)\n"
     ]
    }
   ],
   "source": [
    "print(\"PhenomP: batch size  = 100\")\n",
    "params = batch_params(_params, 100)\n",
    "%timeit -n 10 -r 10 phenom_p.forward(torch_freqs, *params, f_ref)"
   ]
  },
  {
   "cell_type": "code",
   "execution_count": 12,
   "metadata": {},
   "outputs": [
    {
     "name": "stdout",
     "output_type": "stream",
     "text": [
      "545 ms ± 1.09 ms per loop (mean ± std. dev. of 10 runs, 10 loops each)\n"
     ]
    }
   ],
   "source": [
    "print(\"PhenomP: batch size  = 1000\")\n",
    "params = batch_params(_params, 1000)\n",
    "%timeit -n 10 -r 10 phenom_p.forward(torch_freqs, *params, f_ref)"
   ]
  },
  {
   "cell_type": "code",
   "execution_count": 16,
   "metadata": {},
   "outputs": [
    {
     "name": "stdout",
     "output_type": "stream",
     "text": [
      "PhenomD: batch size  = 100\n"
     ]
    },
    {
     "name": "stdout",
     "output_type": "stream",
     "text": [
      "77 ms ± 338 µs per loop (mean ± std. dev. of 10 runs, 10 loops each)\n"
     ]
    }
   ],
   "source": [
    "params = batch_params(_params, 100)\n",
    "params = [*params[:2], params[4], params[7], params[8], *params[10:]]\n",
    "print(\"PhenomD: batch size  = 100\")\n",
    "%timeit -n 10 -r 10 phenom_d.forward(torch_freqs, *params, f_ref)"
   ]
  },
  {
   "cell_type": "code",
   "execution_count": 17,
   "metadata": {},
   "outputs": [
    {
     "name": "stdout",
     "output_type": "stream",
     "text": [
      "PhenomD: batch size  = 1000\n",
      "557 ms ± 78.6 µs per loop (mean ± std. dev. of 10 runs, 10 loops each)\n"
     ]
    }
   ],
   "source": [
    "params = batch_params(_params, 1000)\n",
    "params = [*params[:2], params[4], params[7], params[8], *params[10:]]\n",
    "print(\"PhenomD: batch size  = 1000\")\n",
    "%timeit -n 10 -r 10 phenom_d.forward(torch_freqs, *params, f_ref)"
   ]
  }
 ],
 "metadata": {
  "kernelspec": {
   "display_name": "torch",
   "language": "python",
   "name": "python3"
  },
  "language_info": {
   "codemirror_mode": {
    "name": "ipython",
    "version": 3
   },
   "file_extension": ".py",
   "mimetype": "text/x-python",
   "name": "python",
   "nbconvert_exporter": "python",
   "pygments_lexer": "ipython3",
   "version": "3.12.3"
  }
 },
 "nbformat": 4,
 "nbformat_minor": 2
}
